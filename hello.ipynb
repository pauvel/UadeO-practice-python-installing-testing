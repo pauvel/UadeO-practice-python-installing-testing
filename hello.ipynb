{
  "nbformat": 4,
  "nbformat_minor": 0,
  "metadata": {
    "colab": {
      "name": "hello.ipynb",
      "provenance": []
    },
    "kernelspec": {
      "name": "python3",
      "display_name": "Python 3"
    },
    "language_info": {
      "name": "python"
    }
  },
  "cells": [
    {
      "cell_type": "markdown",
      "metadata": {
        "id": "fXzWFDFx_ioR"
      },
      "source": [
        "# Welcome to python from Colaboratory"
      ]
    },
    {
      "cell_type": "code",
      "metadata": {
        "colab": {
          "base_uri": "https://localhost:8080/"
        },
        "id": "23tIz5m2_26y",
        "outputId": "71f95970-1cb6-42d2-d0a9-accdc7570f26"
      },
      "source": [
        "name = 'Paul G. Veliz Lopez'\n",
        "\n",
        "print('Hello ', name)"
      ],
      "execution_count": 1,
      "outputs": [
        {
          "output_type": "stream",
          "name": "stdout",
          "text": [
            "Hello  Paul G. Veliz Lopez\n"
          ]
        }
      ]
    },
    {
      "cell_type": "code",
      "metadata": {
        "colab": {
          "base_uri": "https://localhost:8080/"
        },
        "id": "dxxQZbIoAIdr",
        "outputId": "ef922f34-e90e-4d10-e4ab-527db059fb9d"
      },
      "source": [
        "num1 = 2\n",
        "num2 = 10\n",
        "\n",
        "print('2x10 = ', num1*num2)"
      ],
      "execution_count": 3,
      "outputs": [
        {
          "output_type": "stream",
          "name": "stdout",
          "text": [
            "2x10 =  20\n"
          ]
        }
      ]
    }
  ]
}